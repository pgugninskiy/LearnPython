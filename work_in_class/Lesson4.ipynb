{
 "cells": [
  {
   "cell_type": "code",
   "execution_count": 2,
   "metadata": {},
   "outputs": [],
   "source": [
    "lst = [1, 2, 3]"
   ]
  },
  {
   "cell_type": "code",
   "execution_count": 5,
   "metadata": {},
   "outputs": [
    {
     "name": "stdout",
     "output_type": "stream",
     "text": [
      "2\n"
     ]
    }
   ],
   "source": [
    "tpl = (1, 2, 3)\n",
    "\n",
    "print(tpl[1])"
   ]
  },
  {
   "cell_type": "code",
   "execution_count": 7,
   "metadata": {},
   "outputs": [
    {
     "name": "stdout",
     "output_type": "stream",
     "text": [
      "<built-in method count of tuple object at 0x000001CF39385AC0>\n"
     ]
    }
   ],
   "source": [
    "print(tpl.count)"
   ]
  },
  {
   "cell_type": "code",
   "execution_count": 9,
   "metadata": {},
   "outputs": [
    {
     "name": "stdout",
     "output_type": "stream",
     "text": [
      "(1, 2, 3, 4, 5, 6, 4, 5, 6)\n"
     ]
    }
   ],
   "source": [
    "tpl += (4, 5, 6)\n",
    "\n",
    "print(tpl)"
   ]
  },
  {
   "cell_type": "code",
   "execution_count": 13,
   "metadata": {},
   "outputs": [
    {
     "name": "stdout",
     "output_type": "stream",
     "text": [
      "[1, 2, 3] (1, 2, 3)\n",
      "[1, 2, 3, 4] (1, 2, 3, 4)\n"
     ]
    }
   ],
   "source": [
    "a = [1, 2, 3]\n",
    "b = tuple(a)\n",
    "\n",
    "print(a, b)\n",
    "\n",
    "a.append(4)\n",
    "b = tuple(a)\n",
    "\n",
    "print(a, b)"
   ]
  },
  {
   "cell_type": "code",
   "execution_count": 15,
   "metadata": {},
   "outputs": [
    {
     "name": "stdout",
     "output_type": "stream",
     "text": [
      "{1, 2, 3, 4, 5, 2341, 234, 12, 2354, 54, 23}\n"
     ]
    }
   ],
   "source": [
    "my_set = {\n",
    "    1,\n",
    "    2,\n",
    "    3,\n",
    "    4,\n",
    "    5,\n",
    "    1,\n",
    "    2,\n",
    "    3,\n",
    "    4,\n",
    "    5,\n",
    "    1,\n",
    "    2341,\n",
    "    4,\n",
    "    2354,\n",
    "    23,\n",
    "    54,\n",
    "    234,\n",
    "    23,\n",
    "    1,\n",
    "    1,\n",
    "    2,\n",
    "    12,\n",
    "    12,\n",
    "    12,\n",
    "    12,\n",
    "    12,\n",
    "    1,\n",
    "    2,\n",
    "}\n",
    "\n",
    "print(my_set)"
   ]
  },
  {
   "cell_type": "code",
   "execution_count": 23,
   "metadata": {},
   "outputs": [
    {
     "name": "stdout",
     "output_type": "stream",
     "text": [
      "{2, 3, (1, 2, 3)}\n",
      "{'a', 2, 3, (1, 2, 3)}\n"
     ]
    }
   ],
   "source": [
    "my_set = {1, 2, 3, (1, 2, 3)}\n",
    "my_set.remove(1)\n",
    "print(my_set)\n",
    "my_set.add(\"a\")\n",
    "print(my_set)"
   ]
  },
  {
   "cell_type": "code",
   "execution_count": 26,
   "metadata": {},
   "outputs": [
    {
     "name": "stdout",
     "output_type": "stream",
     "text": [
      "<class 'dict'>\n"
     ]
    }
   ],
   "source": [
    "dct = {1: \"1\", 2: \"2\", 3: \"3\"}\n",
    "print(type(dct))"
   ]
  },
  {
   "cell_type": "code",
   "execution_count": 2,
   "metadata": {},
   "outputs": [
    {
     "name": "stdout",
     "output_type": "stream",
     "text": [
      "(1, 1)\n",
      "('a', 2)\n",
      "(23, [1, 2, 3])\n"
     ]
    }
   ],
   "source": [
    "dct = {1: 1, \"a\": 2, 23: [1, 2, 3]}\n",
    "\n",
    "for i in dct.items():\n",
    "    print(i)"
   ]
  },
  {
   "cell_type": "code",
   "execution_count": 5,
   "metadata": {},
   "outputs": [
    {
     "name": "stdout",
     "output_type": "stream",
     "text": [
      "*******\n",
      "*******\n",
      "*******\n",
      "*******\n",
      "*******\n"
     ]
    }
   ],
   "source": [
    "def draw_box():\n",
    "    for _ in range(5):\n",
    "        print(\"*\" * 7)\n",
    "\n",
    "\n",
    "draw_box()"
   ]
  },
  {
   "cell_type": "code",
   "execution_count": 4,
   "metadata": {},
   "outputs": [
    {
     "name": "stdout",
     "output_type": "stream",
     "text": [
      "**********\n",
      "*        *\n",
      "*        *\n",
      "*        *\n",
      "*        *\n",
      "*        *\n",
      "*        *\n",
      "*        *\n",
      "*        *\n",
      "*        *\n",
      "*        *\n",
      "*        *\n",
      "*        *\n",
      "**********\n"
     ]
    }
   ],
   "source": [
    "def draw_empty_rectangle():\n",
    "    for i in range(14):\n",
    "        if i == 0 or i == 13:\n",
    "            print(\"*\" * 10)\n",
    "        else:\n",
    "            print(\"*\", \" \" * 6, \"*\")\n",
    "\n",
    "\n",
    "draw_empty_rectangle()"
   ]
  },
  {
   "cell_type": "code",
   "execution_count": 9,
   "metadata": {},
   "outputs": [
    {
     "name": "stdout",
     "output_type": "stream",
     "text": [
      "\n",
      "*\n",
      "**\n",
      "***\n",
      "****\n",
      "*****\n",
      "******\n",
      "*******\n",
      "********\n",
      "*********\n",
      "**********\n"
     ]
    }
   ],
   "source": [
    "def draw_triangle():\n",
    "    for i in range(11):\n",
    "        print(\"*\" * i)\n",
    "\n",
    "\n",
    "draw_triangle()"
   ]
  },
  {
   "cell_type": "code",
   "execution_count": 11,
   "metadata": {},
   "outputs": [
    {
     "name": "stdout",
     "output_type": "stream",
     "text": [
      "4\n"
     ]
    }
   ],
   "source": [
    "def print_number(a, b, c):\n",
    "    d = (a + c) // b\n",
    "    print(d)\n",
    "\n",
    "\n",
    "print_number(2, 3, 11)"
   ]
  },
  {
   "cell_type": "code",
   "execution_count": 26,
   "metadata": {},
   "outputs": [
    {
     "ename": "ValueError",
     "evalue": "invalid literal for int() with base 10: ''",
     "output_type": "error",
     "traceback": [
      "\u001b[31m---------------------------------------------------------------------------\u001b[39m",
      "\u001b[31mValueError\u001b[39m                                Traceback (most recent call last)",
      "\u001b[36mCell\u001b[39m\u001b[36m \u001b[39m\u001b[32mIn[26]\u001b[39m\u001b[32m, line 2\u001b[39m\n\u001b[32m      1\u001b[39m fill = \u001b[38;5;28mstr\u001b[39m(\u001b[38;5;28minput\u001b[39m())\n\u001b[32m----> \u001b[39m\u001b[32m2\u001b[39m base = \u001b[38;5;28;43mint\u001b[39;49m\u001b[43m(\u001b[49m\u001b[38;5;28;43minput\u001b[39;49m\u001b[43m(\u001b[49m\u001b[43m)\u001b[49m\u001b[43m)\u001b[49m\n\u001b[32m      4\u001b[39m \u001b[38;5;28;01mdef\u001b[39;00m\u001b[38;5;250m \u001b[39m\u001b[34mdraw_triangle\u001b[39m(fill, base):\n\u001b[32m      5\u001b[39m     half = (base + \u001b[32m1\u001b[39m) // \u001b[32m2\u001b[39m\n",
      "\u001b[31mValueError\u001b[39m: invalid literal for int() with base 10: ''"
     ]
    }
   ],
   "source": [
    "fill = str(input())\n",
    "base = int(input())\n",
    "\n",
    "def draw_triangle(fill, base):\n",
    "    half = (base + 1) // 2\n",
    "    for i in range(half):\n",
    "        print(fill * i)\n",
    "    for i in range(half, 0, -1):\n",
    "        print(fill * i)\n",
    "\n",
    "\n",
    "draw_triangle(fill, base)"
   ]
  },
  {
   "cell_type": "code",
   "execution_count": 31,
   "metadata": {},
   "outputs": [
    {
     "ename": "IndexError",
     "evalue": "string index out of range",
     "output_type": "error",
     "traceback": [
      "\u001b[31m---------------------------------------------------------------------------\u001b[39m",
      "\u001b[31mIndexError\u001b[39m                                Traceback (most recent call last)",
      "\u001b[36mCell\u001b[39m\u001b[36m \u001b[39m\u001b[32mIn[31]\u001b[39m\u001b[32m, line 10\u001b[39m\n\u001b[32m      7\u001b[39m surname = \u001b[38;5;28mstr\u001b[39m(\u001b[38;5;28minput\u001b[39m())\n\u001b[32m      8\u001b[39m patronymic = \u001b[38;5;28mstr\u001b[39m(\u001b[38;5;28minput\u001b[39m())\n\u001b[32m---> \u001b[39m\u001b[32m10\u001b[39m \u001b[43mprint_fio\u001b[49m\u001b[43m(\u001b[49m\u001b[43mname\u001b[49m\u001b[43m,\u001b[49m\u001b[43m \u001b[49m\u001b[43msurname\u001b[49m\u001b[43m,\u001b[49m\u001b[43m \u001b[49m\u001b[43mpatronymic\u001b[49m\u001b[43m)\u001b[49m\n",
      "\u001b[36mCell\u001b[39m\u001b[36m \u001b[39m\u001b[32mIn[31]\u001b[39m\u001b[32m, line 2\u001b[39m, in \u001b[36mprint_fio\u001b[39m\u001b[34m(name, surname, patronymic)\u001b[39m\n\u001b[32m      1\u001b[39m \u001b[38;5;28;01mdef\u001b[39;00m\u001b[38;5;250m \u001b[39m\u001b[34mprint_fio\u001b[39m(name, surname, patronymic):\n\u001b[32m----> \u001b[39m\u001b[32m2\u001b[39m     fio = \u001b[43msurname\u001b[49m\u001b[43m[\u001b[49m\u001b[32;43m0\u001b[39;49m\u001b[43m]\u001b[49m.upper() + name[\u001b[32m0\u001b[39m].upper() + patronymic[\u001b[32m0\u001b[39m].upper()\n\u001b[32m      3\u001b[39m     \u001b[38;5;28mprint\u001b[39m(fio)\n",
      "\u001b[31mIndexError\u001b[39m: string index out of range"
     ]
    }
   ],
   "source": [
    "def print_fio(name, surname, patronymic):\n",
    "    fio = surname[0].upper() + name[0].upper() + patronymic[0].upper()\n",
    "    print(fio)\n",
    "\n",
    "\n",
    "name = str(input())\n",
    "surname = str(input())\n",
    "patronymic = str(input())\n",
    "\n",
    "print_fio(name, surname, patronymic)"
   ]
  },
  {
   "cell_type": "code",
   "execution_count": 44,
   "metadata": {},
   "outputs": [
    {
     "name": "stdout",
     "output_type": "stream",
     "text": [
      "0\n"
     ]
    }
   ],
   "source": [
    "def print_digit_sum(num):\n",
    "    sum = 0\n",
    "    for i in n:\n",
    "        sum += int(i)\n",
    "    print(sum)\n",
    "n = list(input())\n",
    "print_digit_sum(n)"
   ]
  },
  {
   "cell_type": "code",
   "execution_count": 45,
   "metadata": {},
   "outputs": [
    {
     "ename": "ValueError",
     "evalue": "invalid literal for int() with base 10: ''",
     "output_type": "error",
     "traceback": [
      "\u001b[31m---------------------------------------------------------------------------\u001b[39m",
      "\u001b[31mValueError\u001b[39m                                Traceback (most recent call last)",
      "\u001b[36mCell\u001b[39m\u001b[36m \u001b[39m\u001b[32mIn[45]\u001b[39m\u001b[32m, line 1\u001b[39m\n\u001b[32m----> \u001b[39m\u001b[32m1\u001b[39m n = \u001b[38;5;28mlist\u001b[39m(\u001b[38;5;28;43mint\u001b[39;49m\u001b[43m(\u001b[49m\u001b[38;5;28;43minput\u001b[39;49m\u001b[43m(\u001b[49m\u001b[43m)\u001b[49m\u001b[43m)\u001b[49m)\n\u001b[32m      2\u001b[39m \u001b[38;5;28msum\u001b[39m = \u001b[32m0\u001b[39m\n\u001b[32m      3\u001b[39m \u001b[38;5;28;01mfor\u001b[39;00m i \u001b[38;5;129;01min\u001b[39;00m n:\n",
      "\u001b[31mValueError\u001b[39m: invalid literal for int() with base 10: ''"
     ]
    }
   ],
   "source": [
    "n = list(int(input()))\n",
    "sum = 0\n",
    "for i in n:\n",
    "    sum += i\n",
    "    print(sum)"
   ]
  },
  {
   "cell_type": "code",
   "execution_count": 51,
   "metadata": {},
   "outputs": [
    {
     "name": "stdout",
     "output_type": "stream",
     "text": [
      "1\n"
     ]
    }
   ],
   "source": [
    "def swap(a, b):\n",
    "    a, b = b, a\n",
    "\n",
    "a = 4\n",
    "b = 3\n",
    "swap(a, b)\n",
    "print(a - b)\n"
   ]
  },
  {
   "cell_type": "code",
   "execution_count": 53,
   "metadata": {},
   "outputs": [
    {
     "name": "stdout",
     "output_type": "stream",
     "text": [
      "3\n",
      "8\n",
      "8\n"
     ]
    }
   ],
   "source": [
    "x = 5\n",
    "\n",
    "def add():\n",
    "    global x\n",
    "    x = 3\n",
    "    print(x)\n",
    "    x = x + 5\n",
    "    print(x)\n",
    "\n",
    "add()\n",
    "print(x)"
   ]
  },
  {
   "cell_type": "code",
   "execution_count": 56,
   "metadata": {},
   "outputs": [
    {
     "name": "stdout",
     "output_type": "stream",
     "text": [
      "2\n",
      "4\n",
      "8\n",
      "16\n",
      "16\n"
     ]
    }
   ],
   "source": [
    "def do_something(numbers):\n",
    "    result = 1\n",
    "    for i in numbers:\n",
    "        result *= i\n",
    "        print(result)\n",
    "    return result\n",
    "\n",
    "\n",
    "print(do_something([2, 2, 2, 2]))"
   ]
  },
  {
   "cell_type": "code",
   "execution_count": 58,
   "metadata": {},
   "outputs": [
    {
     "name": "stdout",
     "output_type": "stream",
     "text": [
      "6\n"
     ]
    }
   ],
   "source": [
    "def get_sum(x, y, z):\n",
    "    return x + y + z\n",
    "    print('Сумма равна', x + y + z)\n",
    "\n",
    "print(get_sum(1, 2, 3))"
   ]
  },
  {
   "cell_type": "code",
   "execution_count": 64,
   "metadata": {},
   "outputs": [
    {
     "ename": "ValueError",
     "evalue": "invalid literal for int() with base 10: ''",
     "output_type": "error",
     "traceback": [
      "\u001b[31m---------------------------------------------------------------------------\u001b[39m",
      "\u001b[31mValueError\u001b[39m                                Traceback (most recent call last)",
      "\u001b[36mCell\u001b[39m\u001b[36m \u001b[39m\u001b[32mIn[64]\u001b[39m\u001b[32m, line 5\u001b[39m\n\u001b[32m      2\u001b[39m     mile = km * \u001b[32m0.6214\u001b[39m\n\u001b[32m      3\u001b[39m     \u001b[38;5;28;01mreturn\u001b[39;00m \u001b[38;5;28mround\u001b[39m(mile, \u001b[32m4\u001b[39m)\n\u001b[32m----> \u001b[39m\u001b[32m5\u001b[39m num = \u001b[38;5;28;43mint\u001b[39;49m\u001b[43m(\u001b[49m\u001b[38;5;28;43minput\u001b[39;49m\u001b[43m(\u001b[49m\u001b[43m)\u001b[49m\u001b[43m)\u001b[49m\n\u001b[32m      6\u001b[39m \u001b[38;5;28mprint\u001b[39m(convert_to_miles(num))\n",
      "\u001b[31mValueError\u001b[39m: invalid literal for int() with base 10: ''"
     ]
    }
   ],
   "source": [
    "def convert_to_miles(km):\n",
    "    mile = km * 0.6214\n",
    "    return round(mile, 4)\n",
    "\n",
    "num = int(input())\n",
    "print(convert_to_miles(num))"
   ]
  },
  {
   "cell_type": "code",
   "execution_count": 72,
   "metadata": {},
   "outputs": [
    {
     "ename": "ValueError",
     "evalue": "invalid literal for int() with base 10: ''",
     "output_type": "error",
     "traceback": [
      "\u001b[31m---------------------------------------------------------------------------\u001b[39m",
      "\u001b[31mValueError\u001b[39m                                Traceback (most recent call last)",
      "\u001b[36mCell\u001b[39m\u001b[36m \u001b[39m\u001b[32mIn[72]\u001b[39m\u001b[32m, line 10\u001b[39m\n\u001b[32m      6\u001b[39m     \u001b[38;5;28;01melse\u001b[39;00m:\n\u001b[32m      7\u001b[39m         \u001b[38;5;28;01mreturn\u001b[39;00m \u001b[32m30\u001b[39m\n\u001b[32m---> \u001b[39m\u001b[32m10\u001b[39m num_month = \u001b[38;5;28;43mint\u001b[39;49m\u001b[43m(\u001b[49m\u001b[38;5;28;43minput\u001b[39;49m\u001b[43m(\u001b[49m\u001b[43m)\u001b[49m\u001b[43m)\u001b[49m\n\u001b[32m     12\u001b[39m \u001b[38;5;28mprint\u001b[39m(get_days(num_month))\n",
      "\u001b[31mValueError\u001b[39m: invalid literal for int() with base 10: ''"
     ]
    }
   ],
   "source": [
    "def get_days(month):\n",
    "    if month in [1, 3, 5, 7, 8, 10, 12]:\n",
    "        return 31\n",
    "    elif month == 2:\n",
    "        return 28\n",
    "    else:\n",
    "        return 30\n",
    "\n",
    "\n",
    "num_month = int(input())\n",
    "\n",
    "print(get_days(num_month))"
   ]
  },
  {
   "cell_type": "code",
   "execution_count": 78,
   "metadata": {},
   "outputs": [
    {
     "ename": "ValueError",
     "evalue": "invalid literal for int() with base 10: ''",
     "output_type": "error",
     "traceback": [
      "\u001b[31m---------------------------------------------------------------------------\u001b[39m",
      "\u001b[31mValueError\u001b[39m                                Traceback (most recent call last)",
      "\u001b[36mCell\u001b[39m\u001b[36m \u001b[39m\u001b[32mIn[78]\u001b[39m\u001b[32m, line 18\u001b[39m\n\u001b[32m     14\u001b[39m     \u001b[38;5;28;01mreturn\u001b[39;00m list_factors\n\u001b[32m     17\u001b[39m \u001b[38;5;66;03m# Запрашиваем у пользователя число и преобразуем его в целое (int)\u001b[39;00m\n\u001b[32m---> \u001b[39m\u001b[32m18\u001b[39m num = \u001b[38;5;28;43mint\u001b[39;49m\u001b[43m(\u001b[49m\u001b[38;5;28;43minput\u001b[39;49m\u001b[43m(\u001b[49m\u001b[33;43m\"\u001b[39;49m\u001b[33;43mВведите число: \u001b[39;49m\u001b[33;43m\"\u001b[39;49m\u001b[43m)\u001b[49m\u001b[43m)\u001b[49m\n\u001b[32m     20\u001b[39m \u001b[38;5;66;03m# Вызываем функцию и выводим найденные делители\u001b[39;00m\n\u001b[32m     21\u001b[39m \u001b[38;5;28mprint\u001b[39m(get_factors(num))\n",
      "\u001b[31mValueError\u001b[39m: invalid literal for int() with base 10: ''"
     ]
    }
   ],
   "source": [
    "# Функция для нахождения всех делителей числа\n",
    "def get_factors(num):\n",
    "    # Создаем пустой список для хранения делителей\n",
    "    list_factors = []\n",
    "\n",
    "    # Перебираем все числа от 1 до num включительно\n",
    "    for i in range(1, num + 1):\n",
    "        # Если num делится на i без остатка — это делитель\n",
    "        if num % i == 0:\n",
    "            # Добавляем делитель в список\n",
    "            list_factors.append(i)\n",
    "\n",
    "    # Возвращаем список делителей\n",
    "    return list_factors\n",
    "\n",
    "\n",
    "# Запрашиваем у пользователя число и преобразуем его в целое (int)\n",
    "num = int(input())\n",
    "\n",
    "# Вызываем функцию и выводим найденные делители\n",
    "print(get_factors(num))"
   ]
  },
  {
   "cell_type": "code",
   "execution_count": 82,
   "metadata": {},
   "outputs": [
    {
     "ename": "ValueError",
     "evalue": "invalid literal for int() with base 10: ''",
     "output_type": "error",
     "traceback": [
      "\u001b[31m---------------------------------------------------------------------------\u001b[39m",
      "\u001b[31mValueError\u001b[39m                                Traceback (most recent call last)",
      "\u001b[36mCell\u001b[39m\u001b[36m \u001b[39m\u001b[32mIn[82]\u001b[39m\u001b[32m, line 18\u001b[39m\n\u001b[32m     14\u001b[39m     \u001b[38;5;28;01mreturn\u001b[39;00m \u001b[38;5;28mlen\u001b[39m(list_factors)\n\u001b[32m     17\u001b[39m \u001b[38;5;66;03m# Запрашиваем у пользователя число и преобразуем его в целое (int)\u001b[39;00m\n\u001b[32m---> \u001b[39m\u001b[32m18\u001b[39m num = \u001b[38;5;28;43mint\u001b[39;49m\u001b[43m(\u001b[49m\u001b[38;5;28;43minput\u001b[39;49m\u001b[43m(\u001b[49m\u001b[43m)\u001b[49m\u001b[43m)\u001b[49m\n\u001b[32m     20\u001b[39m \u001b[38;5;66;03m# Вызываем функцию и выводим кол-во найденных делителей\u001b[39;00m\n\u001b[32m     21\u001b[39m \u001b[38;5;28mprint\u001b[39m(number_of_factors(num))\n",
      "\u001b[31mValueError\u001b[39m: invalid literal for int() with base 10: ''"
     ]
    }
   ],
   "source": [
    "# Функция для нахождения кол-ва всех делителей числа\n",
    "def number_of_factors(num):\n",
    "    # Создаем пустой список для хранения делителей\n",
    "    list_factors = []\n",
    "\n",
    "    # Перебираем все числа от 1 до num включительно\n",
    "    for i in range(1, num + 1):\n",
    "        # Если num делится на i без остатка — это делитель\n",
    "        if num % i == 0:\n",
    "            # Добавляем делитель в список\n",
    "            list_factors.append(i)\n",
    "\n",
    "    # Возвращаем кол-во всех делителей\n",
    "    return len(list_factors)\n",
    "\n",
    "\n",
    "# Запрашиваем у пользователя число и преобразуем его в целое (int)\n",
    "num = int(input())\n",
    "\n",
    "# Вызываем функцию и выводим кол-во найденных делителей\n",
    "print(number_of_factors(num))\n",
    "    "
   ]
  },
  {
   "cell_type": "code",
   "execution_count": 101,
   "metadata": {},
   "outputs": [
    {
     "name": "stdout",
     "output_type": "stream",
     "text": [
      "[]\n"
     ]
    }
   ],
   "source": [
    "# Функция для поиска всех индексов, в которых символ встречается в строке\n",
    "def find_all(target, symbol):\n",
    "    # Преобразуем строку target в список символов для удобства работы\n",
    "    target_list = list(target)\n",
    "\n",
    "    # Приводим символ к строковому типу (на случай, если передан иначе)\n",
    "    search_symbol = str(symbol)\n",
    "\n",
    "    # Создаем пустой список, в который будем добавлять индексы совпадений\n",
    "    result_list = []\n",
    "\n",
    "    # Проходим по каждому индексу строки\n",
    "    for i in range(0, len(target_list)):\n",
    "        # Если текущий символ совпадает с искомым\n",
    "        if target_list[i] == search_symbol:\n",
    "            # Добавляем его индекс в результирующий список\n",
    "            result_list.append(i)\n",
    "\n",
    "    # Возвращаем список индексов, где был найден искомый символ\n",
    "    return result_list\n",
    "\n",
    "\n",
    "# Считываем строку из ввода\n",
    "s = input()\n",
    "\n",
    "# Считываем искомый символ\n",
    "char = input()\n",
    "\n",
    "# Вызываем функцию и выводим результат — список индексов\n",
    "print(find_all(s, char))"
   ]
  },
  {
   "cell_type": "code",
   "execution_count": 102,
   "metadata": {},
   "outputs": [
    {
     "name": "stdout",
     "output_type": "stream",
     "text": [
      "a\n",
      "[0]\n",
      "b\n",
      "c\n",
      "a\n",
      "[0, 3]\n",
      "b\n",
      "c\n",
      "a\n",
      "[0, 3, 6]\n",
      "b\n",
      "c\n"
     ]
    }
   ],
   "source": [
    "target = \"abcabcabc\"\n",
    "symbol = \"a\"\n",
    "target_list = list(target)\n",
    "search_symbol = str(symbol)\n",
    "result_list = []\n",
    "\n",
    "# проходимся по списку\n",
    "for i in range(0, len(target_list)):\n",
    "    print(target_list[i])\n",
    "    if target_list[i] == search_symbol:\n",
    "        result_list.append(i)\n",
    "        print(result_list)"
   ]
  },
  {
   "cell_type": "code",
   "execution_count": 112,
   "metadata": {},
   "outputs": [
    {
     "name": "stdout",
     "output_type": "stream",
     "text": [
      "[]\n"
     ]
    }
   ],
   "source": [
    "# Функция для объединения и сортировки двух списков\n",
    "def merge(list1, list2):\n",
    "    # Объединяем два списка в один с помощью оператора +\n",
    "    # Затем сортируем результат по возрастанию и возвращаем его\n",
    "    return sorted(list1 + list2)\n",
    "\n",
    "\n",
    "# Считываем первую строку чисел, разбиваем её на части по пробелам\n",
    "# Каждую часть преобразуем в целое число и создаём список чисел\n",
    "numbers1 = [int(c) for c in input().split()]\n",
    "\n",
    "# То же самое для второй строки\n",
    "numbers2 = [int(c) for c in input().split()]\n",
    "\n",
    "\n",
    "# Вызываем функцию merge(), передавая ей два списка\n",
    "# Результат — объединённый и отсортированный список — выводим на экран\n",
    "print(merge(numbers1, numbers2))"
   ]
  },
  {
   "cell_type": "code",
   "execution_count": 118,
   "metadata": {},
   "outputs": [
    {
     "name": "stdout",
     "output_type": "stream",
     "text": [
      "1 2 3 4 5 6 7 10 11 17\n"
     ]
    }
   ],
   "source": [
    "# Функция для сбора чисел из нескольких строк в один список\n",
    "def add_list(num):\n",
    "    result = []  # пустой список для хранения всех чисел\n",
    "\n",
    "    # запрашиваем num строк и преобразуем их в числа\n",
    "    for _ in range(num):\n",
    "        numbers = list(map(int, input().split()))  # получаем список чисел из строки\n",
    "        result.extend(numbers)  # добавляем числа в общий список\n",
    "\n",
    "    return result\n",
    "\n",
    "\n",
    "# Функция для сортировки списка (можно использовать sorted)\n",
    "def quick_merge(data):\n",
    "    return sorted(data)\n",
    "\n",
    "\n",
    "# Основная часть программы\n",
    "n = int(input())         # сколько строк чисел будет введено\n",
    "joined_list = add_list(n)  # собираем все числа в один список\n",
    "merged_list = quick_merge(joined_list)  # сортируем\n",
    "\n",
    "# Выводим результат через пробел\n",
    "print(*merged_list)"
   ]
  }
 ],
 "metadata": {
  "kernelspec": {
   "display_name": "Python 3",
   "language": "python",
   "name": "python3"
  },
  "language_info": {
   "codemirror_mode": {
    "name": "ipython",
    "version": 3
   },
   "file_extension": ".py",
   "mimetype": "text/x-python",
   "name": "python",
   "nbconvert_exporter": "python",
   "pygments_lexer": "ipython3",
   "version": "3.13.2"
  }
 },
 "nbformat": 4,
 "nbformat_minor": 2
}
